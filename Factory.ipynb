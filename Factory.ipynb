{
 "cells": [
  {
   "cell_type": "code",
   "execution_count": 1,
   "id": "925fb8b3",
   "metadata": {},
   "outputs": [],
   "source": [
    "import time"
   ]
  },
  {
   "cell_type": "code",
   "execution_count": 2,
   "id": "12bb6990",
   "metadata": {},
   "outputs": [],
   "source": [
    "####Item Interface\n",
    "class AbstractMsg:\n",
    "    def printMsg(self): pass"
   ]
  },
  {
   "cell_type": "code",
   "execution_count": 3,
   "id": "1e7929a5",
   "metadata": {},
   "outputs": [],
   "source": [
    "####Concrete Item #1\n",
    "class EvenMsg(AbstractMsg):\n",
    "    def __init__(self):\n",
    "        self.evenmsg = \"Time Is An Illusion...\"\n",
    "\n",
    "    def printMsg(self):\n",
    "        print(self.evenmsg)"
   ]
  },
  {
   "cell_type": "code",
   "execution_count": 19,
   "id": "64abaf87",
   "metadata": {},
   "outputs": [],
   "source": [
    "####Concrete Item #2\n",
    "class OddMsg(AbstractMsg):\n",
    "    def printMsg(self):\n",
    "        with open(\"msg.txt\") as f:\n",
    "            data = f.read().strip()\n",
    "            print(data)"
   ]
  },
  {
   "cell_type": "code",
   "execution_count": 30,
   "id": "38db0b4d",
   "metadata": {},
   "outputs": [],
   "source": [
    "#### FACTORY ####\n",
    "class MsgFactory:\n",
    "\n",
    "    @staticmethod\n",
    "    def _checkTime():\n",
    "#         print(time.localtime())\n",
    "        return time.localtime()[4]%2 == 0\n",
    "\n",
    "    @staticmethod\n",
    "    def CreateMsg():\n",
    "        if(MsgFactory._checkTime() == True):\n",
    "            return EvenMsg()\n",
    "        else:\n",
    "            return OddMsg()"
   ]
  },
  {
   "cell_type": "code",
   "execution_count": 80,
   "id": "dcfb61b4",
   "metadata": {},
   "outputs": [
    {
     "name": "stdout",
     "output_type": "stream",
     "text": [
      "hello from txt file (odd minute)\n"
     ]
    }
   ],
   "source": [
    "#Driver / Client\n",
    "if __name__ == \"__main__\":\n",
    "\n",
    "    MsgFactory.CreateMsg().printMsg()"
   ]
  }
 ],
 "metadata": {
  "kernelspec": {
   "display_name": "Python 3",
   "language": "python",
   "name": "python3"
  },
  "language_info": {
   "codemirror_mode": {
    "name": "ipython",
    "version": 3
   },
   "file_extension": ".py",
   "mimetype": "text/x-python",
   "name": "python",
   "nbconvert_exporter": "python",
   "pygments_lexer": "ipython3",
   "version": "3.8.8"
  }
 },
 "nbformat": 4,
 "nbformat_minor": 5
}
