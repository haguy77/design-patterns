{
 "cells": [
  {
   "cell_type": "code",
   "execution_count": 1,
   "id": "6d0cf91f",
   "metadata": {},
   "outputs": [],
   "source": [
    "# AbstarctPage\n",
    "class AbstractPage:\n",
    "    def __init__(self): pass\n",
    "    \n",
    "    def ClosePage(self): pass\n",
    "    \n",
    "    def RunPageCommand(self): pass\n",
    "    \n",
    "    def RenderPage(self):\n",
    "        print(self._data)"
   ]
  },
  {
   "cell_type": "code",
   "execution_count": 2,
   "id": "6a416d5e",
   "metadata": {},
   "outputs": [],
   "source": [
    "# Abstract Factory\n",
    "class AbstractPageFactory:\n",
    "    @staticmethod\n",
    "    def CreateMainPage(): pass\n",
    "    \n",
    "    @staticmethod\n",
    "    def CreateInfoPage(): pass"
   ]
  },
  {
   "cell_type": "code",
   "execution_count": 3,
   "id": "1a5c4315",
   "metadata": {},
   "outputs": [],
   "source": [
    "# Concrete Factory 01\n",
    "class StandardPageFactory(AbstractPageFactory):\n",
    "    @staticmethod\n",
    "    def CreateMainPage():\n",
    "        return StandardMainPage()\n",
    "    \n",
    "    @staticmethod\n",
    "    def CreateInfoPage():\n",
    "        return StandardInfoPage()"
   ]
  },
  {
   "cell_type": "code",
   "execution_count": 4,
   "id": "b5a47ace",
   "metadata": {},
   "outputs": [],
   "source": [
    "# Concrete Factory 02\n",
    "class PremiumPageFactory(AbstractPageFactory):\n",
    "    @staticmethod\n",
    "    def CreateMainPage():\n",
    "        return PremiumMainPage()\n",
    "    \n",
    "    @staticmethod\n",
    "    def CreateInfoPage():\n",
    "        return PremiumInfoPage()"
   ]
  },
  {
   "cell_type": "code",
   "execution_count": 21,
   "id": "ca825472",
   "metadata": {},
   "outputs": [],
   "source": [
    "# ConcreteFactory 03\n",
    "# class CustomPageFactory(AbstractPageFactory):\n",
    "#    @staticmethod\n",
    "#    def CreateMainPage():\n",
    "#        return CustomMainPage()\n",
    "\n",
    "#    @staticmethod\n",
    "#    def CreateInfoPage():\n",
    "#        return CustomInfoPage()"
   ]
  },
  {
   "cell_type": "markdown",
   "id": "3c2cc736",
   "metadata": {},
   "source": [
    "Concrete Pages:"
   ]
  },
  {
   "cell_type": "code",
   "execution_count": 8,
   "id": "cb74ab20",
   "metadata": {},
   "outputs": [],
   "source": [
    "##01\n",
    "class PremiumMainPage(AbstractPage):\n",
    "    def __init__(self):\n",
    "        self._command = \"Running Premium Main Command\"\n",
    "        self._data = \"Rendering Premium Main Page\"\n",
    "\n",
    "    def ClosePage(self): \n",
    "        print(\"Closing Premium Main Page\")\n",
    "        \n",
    "    def RunPageCommand(self): \n",
    "        print(self._command)"
   ]
  },
  {
   "cell_type": "code",
   "execution_count": 9,
   "id": "56d6fb50",
   "metadata": {},
   "outputs": [],
   "source": [
    "##02\n",
    "class PremiumInfoPage(AbstractPage):\n",
    "    def __init__(self):\n",
    "        self._command = \"Running Premium Info Command\"\n",
    "        self._data = \"Rendering Premium Info Page\"\n",
    "\n",
    "    def ClosePage(self): \n",
    "        print(\"Closing Premium Info Page\")\n",
    "        \n",
    "    def RunPageCommand(self): \n",
    "        print(self._command)"
   ]
  },
  {
   "cell_type": "code",
   "execution_count": 10,
   "id": "9290d283",
   "metadata": {},
   "outputs": [],
   "source": [
    "##03\n",
    "class StandardMainPage(AbstractPage):\n",
    "    def __init__(self):\n",
    "        self._command = \"Running Standard Main Command\"\n",
    "        self._data = \"Rendering Standard Main Page\"\n",
    "\n",
    "    def ClosePage(self): \n",
    "        print(\"Closing Standard Main Page\")\n",
    "        \n",
    "    def RunPageCommand(self): \n",
    "        print(self._command)"
   ]
  },
  {
   "cell_type": "code",
   "execution_count": 11,
   "id": "f1b7f572",
   "metadata": {},
   "outputs": [],
   "source": [
    "##04\n",
    "class StandardInfoPage(AbstractPage):\n",
    "    def __init__(self):\n",
    "        self._command = \"Running Standard Info Command\"\n",
    "        self._data = \"Rendering Standard Info Page\"\n",
    "\n",
    "    def ClosePage(self): \n",
    "        print(\"Closing Standard Info Page\")\n",
    "        \n",
    "    def RunPageCommand(self): \n",
    "        print(self._command)"
   ]
  },
  {
   "cell_type": "code",
   "execution_count": 12,
   "id": "7e9d8f36",
   "metadata": {},
   "outputs": [],
   "source": [
    "##05\n",
    "##class StandardMainPage(AbstractPage):\n",
    "##    def __init__(self):\n",
    "##        self._command = \"Running Custom Main Command\"\n",
    "##        self._data = \"Rendering Custom Main Page\"\n",
    "##\n",
    "##    def ClosePage(self): \n",
    "##        print(\"Closing Custom Main Page\")\n",
    "##        \n",
    "##    def RunPageCommand(self): \n",
    "##        print(self._command)"
   ]
  },
  {
   "cell_type": "code",
   "execution_count": 20,
   "id": "a71438e8",
   "metadata": {},
   "outputs": [],
   "source": [
    "#06\n",
    "# class StandardInfoPage(AbstractPage):\n",
    "#    def __init__(self):\n",
    "#        self._command = \"Running Custom Info Command\"\n",
    "#        self._data = \"Rendering Custom Info Page\"\n",
    "\n",
    "#    def ClosePage(self): \n",
    "#        print(\"Closing Custom Info Page\")\n",
    "       \n",
    "#    def RunPageCommand(self): \n",
    "#        print(self._command)"
   ]
  },
  {
   "cell_type": "code",
   "execution_count": 19,
   "id": "3f10de9e",
   "metadata": {},
   "outputs": [],
   "source": [
    "# Client/Driver\n",
    "\n",
    "if __name__ == \"__main__\":\n",
    "    \n",
    "    factory = StandardPageFactory()\n",
    "\n",
    "#     factory = PremiumPageFactory()\n",
    "#     factory = CustomPageFactory()"
   ]
  }
 ],
 "metadata": {
  "kernelspec": {
   "display_name": "Python 3",
   "language": "python",
   "name": "python3"
  },
  "language_info": {
   "codemirror_mode": {
    "name": "ipython",
    "version": 3
   },
   "file_extension": ".py",
   "mimetype": "text/x-python",
   "name": "python",
   "nbconvert_exporter": "python",
   "pygments_lexer": "ipython3",
   "version": "3.8.8"
  }
 },
 "nbformat": 4,
 "nbformat_minor": 5
}
